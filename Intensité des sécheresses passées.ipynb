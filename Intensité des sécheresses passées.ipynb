{
 "cells": [
  {
   "cell_type": "markdown",
   "id": "29588414",
   "metadata": {},
   "source": [
    "# Intensité des sécheresses passées"
   ]
  },
  {
   "cell_type": "markdown",
   "id": "0d540529",
   "metadata": {},
   "source": [
    "## 1.1. Exploration"
   ]
  },
  {
   "cell_type": "code",
   "execution_count": 1,
   "id": "a108f47f",
   "metadata": {},
   "outputs": [],
   "source": [
    "import geopandas as gpd\n",
    "import matplotlib.pyplot as plt\n",
    "import matplotlib.dates as mdates\n",
    "import json\n",
    "import os\n",
    "from glob import glob\n",
    "import pandas as pd"
   ]
  },
  {
   "cell_type": "code",
   "execution_count": 2,
   "id": "154a9c1e",
   "metadata": {},
   "outputs": [
    {
     "ename": "DataSourceError",
     "evalue": "data/Intensité_sécheresses_passées/all-zones.shp/all_zones.shp: No such file or directory",
     "output_type": "error",
     "traceback": [
      "\u001b[0;31m---------------------------------------------------------------------------\u001b[0m",
      "\u001b[0;31mDataSourceError\u001b[0m                           Traceback (most recent call last)",
      "Cell \u001b[0;32mIn[2], line 3\u001b[0m\n\u001b[1;32m      1\u001b[0m \u001b[38;5;66;03m# Load the shapefile\u001b[39;00m\n\u001b[1;32m      2\u001b[0m filepath \u001b[38;5;241m=\u001b[39m \u001b[38;5;124m\"\u001b[39m\u001b[38;5;124mdata/Intensité_sécheresses_passées/all-zones.shp/all_zones.shp\u001b[39m\u001b[38;5;124m\"\u001b[39m\n\u001b[0;32m----> 3\u001b[0m gdf \u001b[38;5;241m=\u001b[39m \u001b[43mgpd\u001b[49m\u001b[38;5;241;43m.\u001b[39;49m\u001b[43mread_file\u001b[49m\u001b[43m(\u001b[49m\u001b[43mfilepath\u001b[49m\u001b[43m)\u001b[49m\n\u001b[1;32m      5\u001b[0m \u001b[38;5;66;03m# Display the first few rows\u001b[39;00m\n\u001b[1;32m      6\u001b[0m \u001b[38;5;28mprint\u001b[39m(gdf\u001b[38;5;241m.\u001b[39mhead())\n",
      "File \u001b[0;32m~/Documents/GitHub/BOOSTER/Facili-TACCT/.venv/lib/python3.13/site-packages/geopandas/io/file.py:294\u001b[0m, in \u001b[0;36m_read_file\u001b[0;34m(filename, bbox, mask, columns, rows, engine, **kwargs)\u001b[0m\n\u001b[1;32m    291\u001b[0m             from_bytes \u001b[38;5;241m=\u001b[39m \u001b[38;5;28;01mTrue\u001b[39;00m\n\u001b[1;32m    293\u001b[0m \u001b[38;5;28;01mif\u001b[39;00m engine \u001b[38;5;241m==\u001b[39m \u001b[38;5;124m\"\u001b[39m\u001b[38;5;124mpyogrio\u001b[39m\u001b[38;5;124m\"\u001b[39m:\n\u001b[0;32m--> 294\u001b[0m     \u001b[38;5;28;01mreturn\u001b[39;00m \u001b[43m_read_file_pyogrio\u001b[49m\u001b[43m(\u001b[49m\n\u001b[1;32m    295\u001b[0m \u001b[43m        \u001b[49m\u001b[43mfilename\u001b[49m\u001b[43m,\u001b[49m\u001b[43m \u001b[49m\u001b[43mbbox\u001b[49m\u001b[38;5;241;43m=\u001b[39;49m\u001b[43mbbox\u001b[49m\u001b[43m,\u001b[49m\u001b[43m \u001b[49m\u001b[43mmask\u001b[49m\u001b[38;5;241;43m=\u001b[39;49m\u001b[43mmask\u001b[49m\u001b[43m,\u001b[49m\u001b[43m \u001b[49m\u001b[43mcolumns\u001b[49m\u001b[38;5;241;43m=\u001b[39;49m\u001b[43mcolumns\u001b[49m\u001b[43m,\u001b[49m\u001b[43m \u001b[49m\u001b[43mrows\u001b[49m\u001b[38;5;241;43m=\u001b[39;49m\u001b[43mrows\u001b[49m\u001b[43m,\u001b[49m\u001b[43m \u001b[49m\u001b[38;5;241;43m*\u001b[39;49m\u001b[38;5;241;43m*\u001b[39;49m\u001b[43mkwargs\u001b[49m\n\u001b[1;32m    296\u001b[0m \u001b[43m    \u001b[49m\u001b[43m)\u001b[49m\n\u001b[1;32m    298\u001b[0m \u001b[38;5;28;01melif\u001b[39;00m engine \u001b[38;5;241m==\u001b[39m \u001b[38;5;124m\"\u001b[39m\u001b[38;5;124mfiona\u001b[39m\u001b[38;5;124m\"\u001b[39m:\n\u001b[1;32m    299\u001b[0m     \u001b[38;5;28;01mif\u001b[39;00m pd\u001b[38;5;241m.\u001b[39mapi\u001b[38;5;241m.\u001b[39mtypes\u001b[38;5;241m.\u001b[39mis_file_like(filename):\n",
      "File \u001b[0;32m~/Documents/GitHub/BOOSTER/Facili-TACCT/.venv/lib/python3.13/site-packages/geopandas/io/file.py:547\u001b[0m, in \u001b[0;36m_read_file_pyogrio\u001b[0;34m(path_or_bytes, bbox, mask, rows, **kwargs)\u001b[0m\n\u001b[1;32m    538\u001b[0m     warnings\u001b[38;5;241m.\u001b[39mwarn(\n\u001b[1;32m    539\u001b[0m         \u001b[38;5;124m\"\u001b[39m\u001b[38;5;124mThe \u001b[39m\u001b[38;5;124m'\u001b[39m\u001b[38;5;124minclude_fields\u001b[39m\u001b[38;5;124m'\u001b[39m\u001b[38;5;124m and \u001b[39m\u001b[38;5;124m'\u001b[39m\u001b[38;5;124mignore_fields\u001b[39m\u001b[38;5;124m'\u001b[39m\u001b[38;5;124m keywords are deprecated, and \u001b[39m\u001b[38;5;124m\"\u001b[39m\n\u001b[1;32m    540\u001b[0m         \u001b[38;5;124m\"\u001b[39m\u001b[38;5;124mwill be removed in a future release. You can use the \u001b[39m\u001b[38;5;124m'\u001b[39m\u001b[38;5;124mcolumns\u001b[39m\u001b[38;5;124m'\u001b[39m\u001b[38;5;124m keyword \u001b[39m\u001b[38;5;124m\"\u001b[39m\n\u001b[0;32m   (...)\u001b[0m\n\u001b[1;32m    543\u001b[0m         stacklevel\u001b[38;5;241m=\u001b[39m\u001b[38;5;241m3\u001b[39m,\n\u001b[1;32m    544\u001b[0m     )\n\u001b[1;32m    545\u001b[0m     kwargs[\u001b[38;5;124m\"\u001b[39m\u001b[38;5;124mcolumns\u001b[39m\u001b[38;5;124m\"\u001b[39m] \u001b[38;5;241m=\u001b[39m kwargs\u001b[38;5;241m.\u001b[39mpop(\u001b[38;5;124m\"\u001b[39m\u001b[38;5;124minclude_fields\u001b[39m\u001b[38;5;124m\"\u001b[39m)\n\u001b[0;32m--> 547\u001b[0m \u001b[38;5;28;01mreturn\u001b[39;00m \u001b[43mpyogrio\u001b[49m\u001b[38;5;241;43m.\u001b[39;49m\u001b[43mread_dataframe\u001b[49m\u001b[43m(\u001b[49m\u001b[43mpath_or_bytes\u001b[49m\u001b[43m,\u001b[49m\u001b[43m \u001b[49m\u001b[43mbbox\u001b[49m\u001b[38;5;241;43m=\u001b[39;49m\u001b[43mbbox\u001b[49m\u001b[43m,\u001b[49m\u001b[43m \u001b[49m\u001b[38;5;241;43m*\u001b[39;49m\u001b[38;5;241;43m*\u001b[39;49m\u001b[43mkwargs\u001b[49m\u001b[43m)\u001b[49m\n",
      "File \u001b[0;32m~/Documents/GitHub/BOOSTER/Facili-TACCT/.venv/lib/python3.13/site-packages/pyogrio/geopandas.py:265\u001b[0m, in \u001b[0;36mread_dataframe\u001b[0;34m(path_or_buffer, layer, encoding, columns, read_geometry, force_2d, skip_features, max_features, where, bbox, mask, fids, sql, sql_dialect, fid_as_index, use_arrow, on_invalid, arrow_to_pandas_kwargs, **kwargs)\u001b[0m\n\u001b[1;32m    260\u001b[0m \u001b[38;5;28;01mif\u001b[39;00m \u001b[38;5;129;01mnot\u001b[39;00m use_arrow:\n\u001b[1;32m    261\u001b[0m     \u001b[38;5;66;03m# For arrow, datetimes are read as is.\u001b[39;00m\n\u001b[1;32m    262\u001b[0m     \u001b[38;5;66;03m# For numpy IO, datetimes are read as string values to preserve timezone info\u001b[39;00m\n\u001b[1;32m    263\u001b[0m     \u001b[38;5;66;03m# as numpy does not directly support timezones.\u001b[39;00m\n\u001b[1;32m    264\u001b[0m     kwargs[\u001b[38;5;124m\"\u001b[39m\u001b[38;5;124mdatetime_as_string\u001b[39m\u001b[38;5;124m\"\u001b[39m] \u001b[38;5;241m=\u001b[39m \u001b[38;5;28;01mTrue\u001b[39;00m\n\u001b[0;32m--> 265\u001b[0m result \u001b[38;5;241m=\u001b[39m \u001b[43mread_func\u001b[49m\u001b[43m(\u001b[49m\n\u001b[1;32m    266\u001b[0m \u001b[43m    \u001b[49m\u001b[43mpath_or_buffer\u001b[49m\u001b[43m,\u001b[49m\n\u001b[1;32m    267\u001b[0m \u001b[43m    \u001b[49m\u001b[43mlayer\u001b[49m\u001b[38;5;241;43m=\u001b[39;49m\u001b[43mlayer\u001b[49m\u001b[43m,\u001b[49m\n\u001b[1;32m    268\u001b[0m \u001b[43m    \u001b[49m\u001b[43mencoding\u001b[49m\u001b[38;5;241;43m=\u001b[39;49m\u001b[43mencoding\u001b[49m\u001b[43m,\u001b[49m\n\u001b[1;32m    269\u001b[0m \u001b[43m    \u001b[49m\u001b[43mcolumns\u001b[49m\u001b[38;5;241;43m=\u001b[39;49m\u001b[43mcolumns\u001b[49m\u001b[43m,\u001b[49m\n\u001b[1;32m    270\u001b[0m \u001b[43m    \u001b[49m\u001b[43mread_geometry\u001b[49m\u001b[38;5;241;43m=\u001b[39;49m\u001b[43mread_geometry\u001b[49m\u001b[43m,\u001b[49m\n\u001b[1;32m    271\u001b[0m \u001b[43m    \u001b[49m\u001b[43mforce_2d\u001b[49m\u001b[38;5;241;43m=\u001b[39;49m\u001b[43mgdal_force_2d\u001b[49m\u001b[43m,\u001b[49m\n\u001b[1;32m    272\u001b[0m \u001b[43m    \u001b[49m\u001b[43mskip_features\u001b[49m\u001b[38;5;241;43m=\u001b[39;49m\u001b[43mskip_features\u001b[49m\u001b[43m,\u001b[49m\n\u001b[1;32m    273\u001b[0m \u001b[43m    \u001b[49m\u001b[43mmax_features\u001b[49m\u001b[38;5;241;43m=\u001b[39;49m\u001b[43mmax_features\u001b[49m\u001b[43m,\u001b[49m\n\u001b[1;32m    274\u001b[0m \u001b[43m    \u001b[49m\u001b[43mwhere\u001b[49m\u001b[38;5;241;43m=\u001b[39;49m\u001b[43mwhere\u001b[49m\u001b[43m,\u001b[49m\n\u001b[1;32m    275\u001b[0m \u001b[43m    \u001b[49m\u001b[43mbbox\u001b[49m\u001b[38;5;241;43m=\u001b[39;49m\u001b[43mbbox\u001b[49m\u001b[43m,\u001b[49m\n\u001b[1;32m    276\u001b[0m \u001b[43m    \u001b[49m\u001b[43mmask\u001b[49m\u001b[38;5;241;43m=\u001b[39;49m\u001b[43mmask\u001b[49m\u001b[43m,\u001b[49m\n\u001b[1;32m    277\u001b[0m \u001b[43m    \u001b[49m\u001b[43mfids\u001b[49m\u001b[38;5;241;43m=\u001b[39;49m\u001b[43mfids\u001b[49m\u001b[43m,\u001b[49m\n\u001b[1;32m    278\u001b[0m \u001b[43m    \u001b[49m\u001b[43msql\u001b[49m\u001b[38;5;241;43m=\u001b[39;49m\u001b[43msql\u001b[49m\u001b[43m,\u001b[49m\n\u001b[1;32m    279\u001b[0m \u001b[43m    \u001b[49m\u001b[43msql_dialect\u001b[49m\u001b[38;5;241;43m=\u001b[39;49m\u001b[43msql_dialect\u001b[49m\u001b[43m,\u001b[49m\n\u001b[1;32m    280\u001b[0m \u001b[43m    \u001b[49m\u001b[43mreturn_fids\u001b[49m\u001b[38;5;241;43m=\u001b[39;49m\u001b[43mfid_as_index\u001b[49m\u001b[43m,\u001b[49m\n\u001b[1;32m    281\u001b[0m \u001b[43m    \u001b[49m\u001b[38;5;241;43m*\u001b[39;49m\u001b[38;5;241;43m*\u001b[39;49m\u001b[43mkwargs\u001b[49m\u001b[43m,\u001b[49m\n\u001b[1;32m    282\u001b[0m \u001b[43m\u001b[49m\u001b[43m)\u001b[49m\n\u001b[1;32m    284\u001b[0m \u001b[38;5;28;01mif\u001b[39;00m use_arrow:\n\u001b[1;32m    285\u001b[0m     meta, table \u001b[38;5;241m=\u001b[39m result\n",
      "File \u001b[0;32m~/Documents/GitHub/BOOSTER/Facili-TACCT/.venv/lib/python3.13/site-packages/pyogrio/raw.py:198\u001b[0m, in \u001b[0;36mread\u001b[0;34m(path_or_buffer, layer, encoding, columns, read_geometry, force_2d, skip_features, max_features, where, bbox, mask, fids, sql, sql_dialect, return_fids, datetime_as_string, **kwargs)\u001b[0m\n\u001b[1;32m     59\u001b[0m \u001b[38;5;250m\u001b[39m\u001b[38;5;124;03m\"\"\"Read OGR data source into numpy arrays.\u001b[39;00m\n\u001b[1;32m     60\u001b[0m \n\u001b[1;32m     61\u001b[0m \u001b[38;5;124;03mIMPORTANT: non-linear geometry types (e.g., MultiSurface) are converted\u001b[39;00m\n\u001b[0;32m   (...)\u001b[0m\n\u001b[1;32m    194\u001b[0m \n\u001b[1;32m    195\u001b[0m \u001b[38;5;124;03m\"\"\"\u001b[39;00m\n\u001b[1;32m    196\u001b[0m dataset_kwargs \u001b[38;5;241m=\u001b[39m _preprocess_options_key_value(kwargs) \u001b[38;5;28;01mif\u001b[39;00m kwargs \u001b[38;5;28;01melse\u001b[39;00m {}\n\u001b[0;32m--> 198\u001b[0m \u001b[38;5;28;01mreturn\u001b[39;00m \u001b[43mogr_read\u001b[49m\u001b[43m(\u001b[49m\n\u001b[1;32m    199\u001b[0m \u001b[43m    \u001b[49m\u001b[43mget_vsi_path_or_buffer\u001b[49m\u001b[43m(\u001b[49m\u001b[43mpath_or_buffer\u001b[49m\u001b[43m)\u001b[49m\u001b[43m,\u001b[49m\n\u001b[1;32m    200\u001b[0m \u001b[43m    \u001b[49m\u001b[43mlayer\u001b[49m\u001b[38;5;241;43m=\u001b[39;49m\u001b[43mlayer\u001b[49m\u001b[43m,\u001b[49m\n\u001b[1;32m    201\u001b[0m \u001b[43m    \u001b[49m\u001b[43mencoding\u001b[49m\u001b[38;5;241;43m=\u001b[39;49m\u001b[43mencoding\u001b[49m\u001b[43m,\u001b[49m\n\u001b[1;32m    202\u001b[0m \u001b[43m    \u001b[49m\u001b[43mcolumns\u001b[49m\u001b[38;5;241;43m=\u001b[39;49m\u001b[43mcolumns\u001b[49m\u001b[43m,\u001b[49m\n\u001b[1;32m    203\u001b[0m \u001b[43m    \u001b[49m\u001b[43mread_geometry\u001b[49m\u001b[38;5;241;43m=\u001b[39;49m\u001b[43mread_geometry\u001b[49m\u001b[43m,\u001b[49m\n\u001b[1;32m    204\u001b[0m \u001b[43m    \u001b[49m\u001b[43mforce_2d\u001b[49m\u001b[38;5;241;43m=\u001b[39;49m\u001b[43mforce_2d\u001b[49m\u001b[43m,\u001b[49m\n\u001b[1;32m    205\u001b[0m \u001b[43m    \u001b[49m\u001b[43mskip_features\u001b[49m\u001b[38;5;241;43m=\u001b[39;49m\u001b[43mskip_features\u001b[49m\u001b[43m,\u001b[49m\n\u001b[1;32m    206\u001b[0m \u001b[43m    \u001b[49m\u001b[43mmax_features\u001b[49m\u001b[38;5;241;43m=\u001b[39;49m\u001b[43mmax_features\u001b[49m\u001b[43m \u001b[49m\u001b[38;5;129;43;01mor\u001b[39;49;00m\u001b[43m \u001b[49m\u001b[38;5;241;43m0\u001b[39;49m\u001b[43m,\u001b[49m\n\u001b[1;32m    207\u001b[0m \u001b[43m    \u001b[49m\u001b[43mwhere\u001b[49m\u001b[38;5;241;43m=\u001b[39;49m\u001b[43mwhere\u001b[49m\u001b[43m,\u001b[49m\n\u001b[1;32m    208\u001b[0m \u001b[43m    \u001b[49m\u001b[43mbbox\u001b[49m\u001b[38;5;241;43m=\u001b[39;49m\u001b[43mbbox\u001b[49m\u001b[43m,\u001b[49m\n\u001b[1;32m    209\u001b[0m \u001b[43m    \u001b[49m\u001b[43mmask\u001b[49m\u001b[38;5;241;43m=\u001b[39;49m\u001b[43m_mask_to_wkb\u001b[49m\u001b[43m(\u001b[49m\u001b[43mmask\u001b[49m\u001b[43m)\u001b[49m\u001b[43m,\u001b[49m\n\u001b[1;32m    210\u001b[0m \u001b[43m    \u001b[49m\u001b[43mfids\u001b[49m\u001b[38;5;241;43m=\u001b[39;49m\u001b[43mfids\u001b[49m\u001b[43m,\u001b[49m\n\u001b[1;32m    211\u001b[0m \u001b[43m    \u001b[49m\u001b[43msql\u001b[49m\u001b[38;5;241;43m=\u001b[39;49m\u001b[43msql\u001b[49m\u001b[43m,\u001b[49m\n\u001b[1;32m    212\u001b[0m \u001b[43m    \u001b[49m\u001b[43msql_dialect\u001b[49m\u001b[38;5;241;43m=\u001b[39;49m\u001b[43msql_dialect\u001b[49m\u001b[43m,\u001b[49m\n\u001b[1;32m    213\u001b[0m \u001b[43m    \u001b[49m\u001b[43mreturn_fids\u001b[49m\u001b[38;5;241;43m=\u001b[39;49m\u001b[43mreturn_fids\u001b[49m\u001b[43m,\u001b[49m\n\u001b[1;32m    214\u001b[0m \u001b[43m    \u001b[49m\u001b[43mdataset_kwargs\u001b[49m\u001b[38;5;241;43m=\u001b[39;49m\u001b[43mdataset_kwargs\u001b[49m\u001b[43m,\u001b[49m\n\u001b[1;32m    215\u001b[0m \u001b[43m    \u001b[49m\u001b[43mdatetime_as_string\u001b[49m\u001b[38;5;241;43m=\u001b[39;49m\u001b[43mdatetime_as_string\u001b[49m\u001b[43m,\u001b[49m\n\u001b[1;32m    216\u001b[0m \u001b[43m\u001b[49m\u001b[43m)\u001b[49m\n",
      "File \u001b[0;32mpyogrio/_io.pyx:1240\u001b[0m, in \u001b[0;36mpyogrio._io.ogr_read\u001b[0;34m()\u001b[0m\n",
      "File \u001b[0;32mpyogrio/_io.pyx:220\u001b[0m, in \u001b[0;36mpyogrio._io.ogr_open\u001b[0;34m()\u001b[0m\n",
      "\u001b[0;31mDataSourceError\u001b[0m: data/Intensité_sécheresses_passées/all-zones.shp/all_zones.shp: No such file or directory"
     ]
    }
   ],
   "source": [
    "# Load the shapefile\n",
    "filepath = \"data/Intensité_sécheresses_passées/all-zones.shp/all_zones.shp\"\n",
    "gdf = gpd.read_file(filepath)\n",
    "\n",
    "# Display the first few rows\n",
    "print(gdf.head())\n",
    "\n",
    "# Plot the shapefile (optional)\n",
    "gdf.plot()"
   ]
  },
  {
   "cell_type": "code",
   "execution_count": null,
   "id": "fdf2d4b3",
   "metadata": {},
   "outputs": [],
   "source": [
    "# Load the GeoJSON file\n",
    "filepath2 = \"data/Intensité_sécheresses_passées/zones_arretes_en_vigueur.geojson\"\n",
    "gdf = gpd.read_file(filepath2)\n",
    "\n",
    "# Display the first few rows\n",
    "print(gdf.head())\n",
    "\n",
    "# Plot the GeoJSON data (optional)\n",
    "gdf.plot()"
   ]
  },
  {
   "cell_type": "code",
   "execution_count": null,
   "id": "19ad4497",
   "metadata": {},
   "outputs": [],
   "source": [
    "# File paths\n",
    "shp_path = \"data/Intensité_sécheresses_passées/all-zones.shp/all_zones.shp\"\n",
    "geojson_path = \"data/Intensité_sécheresses_passées/zones_arretes_en_vigueur.geojson\"\n",
    "\n",
    "# Load the shapefile (France map)\n",
    "france_map = gpd.read_file(shp_path)\n",
    "\n",
    "# Load the geojson file (Drought zones)\n",
    "drought_zones = gpd.read_file(geojson_path)\n",
    "\n",
    "# Ensure they have the same CRS (Coordinate Reference System)\n",
    "if france_map.crs != drought_zones.crs:\n",
    "    drought_zones = drought_zones.to_crs(france_map.crs)\n",
    "\n",
    "# Plot the data\n",
    "fig, ax = plt.subplots(figsize=(10, 10))\n",
    "\n",
    "# Plot the France map\n",
    "france_map.plot(ax=ax, color='lightgrey', edgecolor='black', alpha=0.5)\n",
    "\n",
    "# Overlay the drought zones\n",
    "drought_zones.plot(ax=ax, color='red', alpha=0.5)\n",
    "\n",
    "# Add title and labels\n",
    "ax.set_title(\"Drought Zones in France\")\n",
    "ax.set_xlabel(\"Longitude\")\n",
    "ax.set_ylabel(\"Latitude\")\n",
    "\n",
    "# Show the plot\n",
    "plt.show()"
   ]
  },
  {
   "cell_type": "code",
   "execution_count": null,
   "id": "06229ac1",
   "metadata": {},
   "outputs": [],
   "source": [
    "# File paths\n",
    "shp_path = \"data/Intensité_sécheresses_passées/all-zones.shp/all_zones.shp\"\n",
    "geojson_path = \"data/Intensité_sécheresses_passées/zones_arretes_en_vigueur.geojson\"\n",
    "\n",
    "# Load the datasets\n",
    "france_map = gpd.read_file(shp_path)\n",
    "drought_zones = gpd.read_file(geojson_path)\n",
    "\n",
    "# Ensure they have the same CRS\n",
    "if france_map.crs != drought_zones.crs:\n",
    "    drought_zones = drought_zones.to_crs(france_map.crs)\n",
    "\n",
    "# Define bounding boxes for the three regions\n",
    "bbox_metropolitan = (-5.0, 41.0, 10.0, 52.0)  # Roughly Metropolitan France\n",
    "bbox_caribbean = (-65.0, 10.0, -50.0, 20.0)   # Guadeloupe & Martinique\n",
    "bbox_reunion = (54.0, -22.0, 56.0, -20.0)     # Réunion Island\n",
    "\n",
    "# Function to filter based on bounding box\n",
    "def filter_by_bbox(gdf, bbox):\n",
    "    minx, miny, maxx, maxy = bbox\n",
    "    return gdf.cx[minx:maxx, miny:maxy]\n",
    "\n",
    "# Filter datasets\n",
    "metropolitan_france = filter_by_bbox(france_map, bbox_metropolitan)\n",
    "caribbean_france = filter_by_bbox(france_map, bbox_caribbean)\n",
    "reunion_france = filter_by_bbox(france_map, bbox_reunion)\n",
    "\n",
    "metropolitan_drought = filter_by_bbox(drought_zones, bbox_metropolitan)\n",
    "caribbean_drought = filter_by_bbox(drought_zones, bbox_caribbean)\n",
    "reunion_drought = filter_by_bbox(drought_zones, bbox_reunion)\n",
    "\n",
    "# Plotting\n",
    "fig, axes = plt.subplots(1, 3, figsize=(15, 5))\n",
    "\n",
    "regions = [\n",
    "    (\"Metropolitan France\", metropolitan_france, metropolitan_drought, axes[0]),\n",
    "    (\"Caribbean (Guadeloupe, Martinique)\", caribbean_france, caribbean_drought, axes[1]),\n",
    "    (\"Réunion Island\", reunion_france, reunion_drought, axes[2])\n",
    "]\n",
    "\n",
    "for title, base_map, drought_map, ax in regions:\n",
    "    ax.set_title(title)\n",
    "\n",
    "    if not base_map.empty:\n",
    "        base_map.plot(ax=ax, color=\"lightgrey\", edgecolor=\"black\", alpha=0.5)\n",
    "    \n",
    "    if not drought_map.empty:\n",
    "        drought_map.plot(ax=ax, color=\"red\", alpha=0.5)\n",
    "\n",
    "    # Avoid aspect ratio issues\n",
    "    ax.set_aspect(\"auto\")  \n",
    "\n",
    "    ax.set_xlabel(\"Longitude\")\n",
    "    ax.set_ylabel(\"Latitude\")\n",
    "\n",
    "plt.tight_layout()\n",
    "plt.show()"
   ]
  },
  {
   "cell_type": "markdown",
   "id": "73db59c7",
   "metadata": {},
   "source": [
    "## 1.2. Données 2016"
   ]
  },
  {
   "cell_type": "code",
   "execution_count": null,
   "id": "28a8e81e",
   "metadata": {},
   "outputs": [],
   "source": [
    "# Define the pattern to match all files (assuming they are in the same directory)\n",
    "file_pattern = \"data\\zones_geojson_2016\\zones_arretes_en_vigueur_2016-*.geojson\"\n",
    "\n",
    "# Find all matching files in the directory\n",
    "files = sorted(glob(file_pattern))  # Ensures files are processed in order\n",
    "\n",
    "# Initialize an empty list to store DataFrames\n",
    "dataframes = []\n",
    "\n",
    "# Loop through each file and process it\n",
    "for file in files:\n",
    "    try:\n",
    "        with open(file, \"r\", encoding=\"utf-8\") as f:\n",
    "            data = json.load(f)\n",
    "        \n",
    "        # Extract features\n",
    "        features = data.get(\"features\", [])\n",
    "        \n",
    "        # Convert to DataFrame\n",
    "        df = pd.json_normalize(features)\n",
    "        \n",
    "        # Extract the date from the filename (assuming the format is fixed)\n",
    "        date_str = file.split(\"_\")[-1].replace(\".geojson\", \"\")\n",
    "        \n",
    "        # Add a new column for the date\n",
    "        df[\"date\"] = pd.to_datetime(date_str, format=\"%Y-%m-%d\")\n",
    "        \n",
    "        # Append to list\n",
    "        dataframes.append(df)\n",
    "    \n",
    "    except Exception as e:\n",
    "        print(f\"Error processing {file}: {e}\")\n",
    "\n",
    "# Combine all DataFrames\n",
    "combined_df = pd.concat(dataframes, ignore_index=True)\n",
    "\n",
    "# Save to CSV (optional)\n",
    "#combined_df.to_csv(\"data\\combined_zones_arretes_2016.csv\", index=False)"
   ]
  },
  {
   "cell_type": "code",
   "execution_count": null,
   "id": "7e44e251",
   "metadata": {},
   "outputs": [],
   "source": [
    "combined_df"
   ]
  },
  {
   "cell_type": "code",
   "execution_count": null,
   "id": "cd98c5ab",
   "metadata": {},
   "outputs": [],
   "source": [
    "combined_df[\"properties.niveauGravite\"].unique()"
   ]
  },
  {
   "cell_type": "code",
   "execution_count": null,
   "id": "52c94c34",
   "metadata": {},
   "outputs": [],
   "source": [
    "(combined_df\n",
    "    .groupby([\"properties.departement.nom\"])[\"properties.arreteRestriction.numero\"]\n",
    "    .nunique()\n",
    "    .reset_index(name=\"distinct_count\")\n",
    ").sort_values(by=\"distinct_count\", ascending=False)"
   ]
  },
  {
   "cell_type": "markdown",
   "id": "8634409f",
   "metadata": {},
   "source": [
    "## 2. Quelques indicateurs / visualisations "
   ]
  },
  {
   "cell_type": "code",
   "execution_count": null,
   "id": "12060621",
   "metadata": {},
   "outputs": [],
   "source": [
    "# Group by 'date' and count distinct values of 'properties.arreteRestriction.numero'\n",
    "time_series_df = (\n",
    "    combined_df\n",
    "    .groupby(\"date\")[\"properties.arreteRestriction.numero\"]\n",
    "    .nunique()\n",
    "    .reset_index(name=\"distinct_count\")\n",
    ")\n",
    "\n",
    "# Sort by date to ensure correct order\n",
    "time_series_df = time_series_df.sort_values(by=\"date\")\n",
    "\n",
    "# Plot the line graph\n",
    "plt.figure(figsize=(12, 6))\n",
    "plt.plot(time_series_df[\"date\"], time_series_df[\"distinct_count\"], marker=\"o\", linestyle=\"-\",color='#00008B')\n",
    "\n",
    "# Formatting the plot\n",
    "plt.title(\"Nombre de restrictions en 2016\")\n",
    "plt.xticks(rotation=45)  # Rotate x-axis labels for better readability\n",
    "plt.grid(False)\n",
    "\n",
    "# Show the plot\n",
    "plt.show()"
   ]
  },
  {
   "cell_type": "code",
   "execution_count": null,
   "id": "146c6526",
   "metadata": {},
   "outputs": [],
   "source": [
    "# Extract year-month for aggregation\n",
    "combined_df[\"month\"] = combined_df[\"date\"].dt.to_period(\"M\")\n",
    "\n",
    "# Group by 'month' and 'properties.niveauGravite', count distinct 'properties.arreteRestriction.numero'\n",
    "monthly_grouped_df = (\n",
    "    combined_df\n",
    "    .groupby([\"month\", \"properties.niveauGravite\"])[\"properties.arreteRestriction.numero\"]\n",
    "    .nunique()\n",
    "    .reset_index(name=\"distinct_count\")\n",
    ")\n",
    "\n",
    "# Convert 'month' back to datetime for plotting\n",
    "monthly_grouped_df[\"month\"] = monthly_grouped_df[\"month\"].astype(str)\n",
    "monthly_grouped_df[\"month\"] = pd.to_datetime(monthly_grouped_df[\"month\"])\n",
    "\n",
    "# Define a color mapping for 'properties.niveauGravite' (Yellow to Red scale)\n",
    "gravite_colors = {\n",
    "    \"vigilance\": \"#FFFF00\",  # Yellow\n",
    "    \"alerte\": \"#FFA500\",  # Orange\n",
    "    \"alerte_renforcee\" : \"#FF6600\", # Darker Orange \n",
    "    \"crise\": \"#FF0000\"  # Red\n",
    "}\n",
    "\n",
    "# Create a stacked bar plot\n",
    "plt.figure(figsize=(12, 6))\n",
    "bar_width = 20\n",
    "\n",
    "# Loop through each 'niveauGravite' category and plot the bars\n",
    "for gravite_level, color in gravite_colors.items():\n",
    "    subset = monthly_grouped_df[monthly_grouped_df[\"properties.niveauGravite\"] == gravite_level]\n",
    "    plt.bar(\n",
    "        subset[\"month\"], \n",
    "        subset[\"distinct_count\"], \n",
    "        label=gravite_level, \n",
    "        color=color,\n",
    "        width=pd.Timedelta(days=bar_width)\n",
    "    )\n",
    "\n",
    "# Formatting the plot\n",
    "plt.xlabel(\"Mois\")\n",
    "plt.title(\"Nombre d'arrêtés par mois et niveau de gravité en 2016\")\n",
    "plt.xticks(rotation=45)\n",
    "plt.legend(title=\"Niveau de gravité\")\n",
    "plt.grid(axis=\"y\", linestyle=\"--\", alpha=0.7)\n",
    "plt.gca().xaxis.set_major_formatter(mdates.DateFormatter(\"%b %Y\"))  # Format x-axis as months\n",
    "\n",
    "# Show the plot\n",
    "plt.show()\n"
   ]
  },
  {
   "cell_type": "code",
   "execution_count": null,
   "id": "c9c8c5de-2b3f-4a8c-9e95-657ed00b89e4",
   "metadata": {},
   "outputs": [],
   "source": []
  },
  {
   "cell_type": "code",
   "execution_count": null,
   "id": "aa96018d-c9eb-4e79-ad06-50b6aec17927",
   "metadata": {},
   "outputs": [],
   "source": []
  },
  {
   "cell_type": "code",
   "execution_count": null,
   "id": "340f8a74-abdd-4a9d-980d-55de0c11e184",
   "metadata": {},
   "outputs": [],
   "source": []
  }
 ],
 "metadata": {
  "kernelspec": {
   "display_name": "Python 3 (ipykernel)",
   "language": "python",
   "name": "python3"
  },
  "language_info": {
   "codemirror_mode": {
    "name": "ipython",
    "version": 3
   },
   "file_extension": ".py",
   "mimetype": "text/x-python",
   "name": "python",
   "nbconvert_exporter": "python",
   "pygments_lexer": "ipython3",
   "version": "3.13.2"
  }
 },
 "nbformat": 4,
 "nbformat_minor": 5
}
